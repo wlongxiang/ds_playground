{
 "cells": [
  {
   "cell_type": "markdown",
   "metadata": {},
   "source": [
    "# The preps\n",
    "\n",
    "This notebook is to show the importance of adding constant when using `statsmodel.api` (aka `sm`) or `statsmodel.formula.api` (aka `smf`). OLS is used.\n",
    "\n",
    "The short answer is:\n",
    "\n",
    "**Always add constant before using it.**"
   ]
  },
  {
   "cell_type": "code",
   "execution_count": 21,
   "metadata": {},
   "outputs": [],
   "source": [
    "from IPython.core.interactiveshell import InteractiveShell\n",
    "InteractiveShell.ast_node_interactivity = \"all\""
   ]
  },
  {
   "cell_type": "code",
   "execution_count": 20,
   "metadata": {},
   "outputs": [],
   "source": [
    "import numpy as np\n",
    "import pandas as pd\n",
    "# import datetools to avoid statsmodel deperecation warning\n",
    "from pandas.core import datetools\n",
    "import statsmodels.api as sm\n",
    "import statsmodels.formula.api as smf\n",
    "# set the seed to get consitent random result.Paradox."
   ]
  },
  {
   "cell_type": "markdown",
   "metadata": {},
   "source": [
    "# The right way of using sm or smf\n",
    "\n",
    "## 1. the sm\n",
    "\n",
    "If we put the following X, y in Excel, the result is:\n",
    "\n",
    "`Intercept       1.497761024\n",
    "X Variable 1    0.012073045\n",
    "X Variable 2    0.623936056 `"
   ]
  },
  {
   "cell_type": "code",
   "execution_count": 102,
   "metadata": {},
   "outputs": [
    {
     "name": "stdout",
     "output_type": "stream",
     "text": [
      "                            OLS Regression Results                            \n",
      "==============================================================================\n",
      "Dep. Variable:                      y   R-squared:                       0.247\n",
      "Model:                            OLS   Adj. R-squared:                  0.179\n",
      "Method:                 Least Squares   F-statistic:                     3.609\n",
      "Date:                Sat, 24 Mar 2018   Prob (F-statistic):             0.0441\n",
      "Time:                        23:01:20   Log-Likelihood:                -1.8015\n",
      "No. Observations:                  25   AIC:                             9.603\n",
      "Df Residuals:                      22   BIC:                             13.26\n",
      "Df Model:                           2                                         \n",
      "Covariance Type:            nonrobust                                         \n",
      "==============================================================================\n",
      "                 coef    std err          t      P>|t|      [0.025      0.975]\n",
      "------------------------------------------------------------------------------\n",
      "const          1.4978      0.178      8.427      0.000       1.129       1.866\n",
      "x1             0.0121      0.246      0.049      0.961      -0.498       0.522\n",
      "x2             0.6239      0.232      2.685      0.014       0.142       1.106\n",
      "==============================================================================\n",
      "Omnibus:                        3.085   Durbin-Watson:                   2.098\n",
      "Prob(Omnibus):                  0.214   Jarque-Bera (JB):                2.089\n",
      "Skew:                          -0.517   Prob(JB):                        0.352\n",
      "Kurtosis:                       2.033   Cond. No.                         6.55\n",
      "==============================================================================\n",
      "\n",
      "Warnings:\n",
      "[1] Standard Errors assume that the covariance matrix of the errors is correctly specified.\n",
      "                            OLS Regression Results                            \n",
      "==============================================================================\n",
      "Dep. Variable:                      y   R-squared:                       0.915\n",
      "Model:                            OLS   Adj. R-squared:                  0.908\n",
      "Method:                 Least Squares   F-statistic:                     123.8\n",
      "Date:                Sat, 24 Mar 2018   Prob (F-statistic):           4.89e-13\n",
      "Time:                        23:01:20   Log-Likelihood:                -19.822\n",
      "No. Observations:                  25   AIC:                             43.64\n",
      "Df Residuals:                      23   BIC:                             46.08\n",
      "Df Model:                           2                                         \n",
      "Covariance Type:            nonrobust                                         \n",
      "==============================================================================\n",
      "                 coef    std err          t      P>|t|      [0.025      0.975]\n",
      "------------------------------------------------------------------------------\n",
      "x1             1.4685      0.352      4.173      0.000       0.741       2.196\n",
      "x2             1.8558      0.363      5.109      0.000       1.104       2.607\n",
      "==============================================================================\n",
      "Omnibus:                        1.004   Durbin-Watson:                   1.528\n",
      "Prob(Omnibus):                  0.605   Jarque-Bera (JB):                0.873\n",
      "Skew:                           0.419   Prob(JB):                        0.646\n",
      "Kurtosis:                       2.630   Cond. No.                         3.24\n",
      "==============================================================================\n",
      "\n",
      "Warnings:\n",
      "[1] Standard Errors assume that the covariance matrix of the errors is correctly specified.\n"
     ]
    }
   ],
   "source": [
    "nobs = 25 # number of observations\n",
    "np.random.seed(123) # to get consistent result \n",
    "X = np.random.random((nobs, 2))\n",
    "X_with_ones = sm.add_constant(X)\n",
    "beta = [1, .1, .5]\n",
    "e = np.random.random(nobs)\n",
    "y = np.dot(X_with_ones, beta) + e\n",
    "results = sm.OLS(y, X_with_ones).fit()\n",
    "print(results.summary())\n",
    "results = sm.OLS(y, X).fit()\n",
    "print(results.summary())"
   ]
  },
  {
   "cell_type": "markdown",
   "metadata": {},
   "source": [
    "As we can see the result of the above cell,\n",
    "\n",
    "1. The result of adding constant conforms with the result from excel\n",
    "2. The result of *NOT* adding constant is **WRONG**"
   ]
  },
  {
   "cell_type": "markdown",
   "metadata": {},
   "source": [
    "## 2. the smf"
   ]
  },
  {
   "cell_type": "code",
   "execution_count": 103,
   "metadata": {
    "collapsed": true
   },
   "outputs": [
    {
     "name": "stdout",
     "output_type": "stream",
     "text": [
      "                            OLS Regression Results                            \n",
      "==============================================================================\n",
      "Dep. Variable:                      y   R-squared:                       0.247\n",
      "Model:                            OLS   Adj. R-squared:                  0.179\n",
      "Method:                 Least Squares   F-statistic:                     3.609\n",
      "Date:                Sat, 24 Mar 2018   Prob (F-statistic):             0.0441\n",
      "Time:                        23:04:49   Log-Likelihood:                -1.8015\n",
      "No. Observations:                  25   AIC:                             9.603\n",
      "Df Residuals:                      22   BIC:                             13.26\n",
      "Df Model:                           2                                         \n",
      "Covariance Type:            nonrobust                                         \n",
      "==============================================================================\n",
      "                 coef    std err          t      P>|t|      [0.025      0.975]\n",
      "------------------------------------------------------------------------------\n",
      "const          1.4978      0.178      8.427      0.000       1.129       1.866\n",
      "x1             0.0121      0.246      0.049      0.961      -0.498       0.522\n",
      "x2             0.6239      0.232      2.685      0.014       0.142       1.106\n",
      "==============================================================================\n",
      "Omnibus:                        3.085   Durbin-Watson:                   2.098\n",
      "Prob(Omnibus):                  0.214   Jarque-Bera (JB):                2.089\n",
      "Skew:                          -0.517   Prob(JB):                        0.352\n",
      "Kurtosis:                       2.033   Cond. No.                         6.55\n",
      "==============================================================================\n",
      "\n",
      "Warnings:\n",
      "[1] Standard Errors assume that the covariance matrix of the errors is correctly specified.\n",
      "                            OLS Regression Results                            \n",
      "==============================================================================\n",
      "Dep. Variable:                      y   R-squared:                       0.915\n",
      "Model:                            OLS   Adj. R-squared:                  0.908\n",
      "Method:                 Least Squares   F-statistic:                     123.8\n",
      "Date:                Sat, 24 Mar 2018   Prob (F-statistic):           4.89e-13\n",
      "Time:                        23:04:50   Log-Likelihood:                -19.822\n",
      "No. Observations:                  25   AIC:                             43.64\n",
      "Df Residuals:                      23   BIC:                             46.08\n",
      "Df Model:                           2                                         \n",
      "Covariance Type:            nonrobust                                         \n",
      "==============================================================================\n",
      "                 coef    std err          t      P>|t|      [0.025      0.975]\n",
      "------------------------------------------------------------------------------\n",
      "x1             1.4685      0.352      4.173      0.000       0.741       2.196\n",
      "x2             1.8558      0.363      5.109      0.000       1.104       2.607\n",
      "==============================================================================\n",
      "Omnibus:                        1.004   Durbin-Watson:                   1.528\n",
      "Prob(Omnibus):                  0.605   Jarque-Bera (JB):                0.873\n",
      "Skew:                           0.419   Prob(JB):                        0.646\n",
      "Kurtosis:                       2.630   Cond. No.                         3.24\n",
      "==============================================================================\n",
      "\n",
      "Warnings:\n",
      "[1] Standard Errors assume that the covariance matrix of the errors is correctly specified.\n"
     ]
    }
   ],
   "source": [
    "results = smf.OLS(y, X_with_ones).fit()\n",
    "print(results.summary())\n",
    "results = smf.OLS(y, X).fit()\n",
    "print(results.summary())"
   ]
  },
  {
   "cell_type": "markdown",
   "metadata": {},
   "source": [
    "As we can see the result of the above cell, it is consitent with sm model."
   ]
  }
 ],
 "metadata": {
  "kernelspec": {
   "display_name": "Python 3",
   "language": "python",
   "name": "python3"
  },
  "language_info": {
   "codemirror_mode": {
    "name": "ipython",
    "version": 3
   },
   "file_extension": ".py",
   "mimetype": "text/x-python",
   "name": "python",
   "nbconvert_exporter": "python",
   "pygments_lexer": "ipython3",
   "version": "3.5.4"
  }
 },
 "nbformat": 4,
 "nbformat_minor": 2
}
